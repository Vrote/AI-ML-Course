{
  "nbformat": 4,
  "nbformat_minor": 0,
  "metadata": {
    "colab": {
      "provenance": [],
      "authorship_tag": "ABX9TyNeC0cJ/RoW7T+d1C2d+jce"
    },
    "kernelspec": {
      "name": "python3",
      "display_name": "Python 3"
    },
    "language_info": {
      "name": "python"
    }
  },
  "cells": [
    {
      "cell_type": "code",
      "execution_count": 5,
      "metadata": {
        "colab": {
          "base_uri": "https://localhost:8080/"
        },
        "id": "fw6fjfWUnlqA",
        "outputId": "04ae9f8b-5807-4922-f810-9d2767c3b79e"
      },
      "outputs": [
        {
          "output_type": "stream",
          "name": "stdout",
          "text": [
            "['a', 2, 3]\n"
          ]
        }
      ],
      "source": [
        "list1=[\"a\",2,3]\n",
        "print(list1)"
      ]
    },
    {
      "cell_type": "code",
      "source": [
        "list1=[i for i in range (10)]  #1D list\n",
        "print(list1)"
      ],
      "metadata": {
        "colab": {
          "base_uri": "https://localhost:8080/"
        },
        "id": "gHyUVfqt9D5s",
        "outputId": "f6315b7e-dc0a-47c1-f095-0ef592720cf1"
      },
      "execution_count": 2,
      "outputs": [
        {
          "output_type": "stream",
          "name": "stdout",
          "text": [
            "[0, 1, 2, 3, 4, 5, 6, 7, 8, 9]\n"
          ]
        }
      ]
    },
    {
      "cell_type": "code",
      "source": [
        "list2=[[1,2,3] for i in range (10)] #2d list\n",
        "print(list2)"
      ],
      "metadata": {
        "colab": {
          "base_uri": "https://localhost:8080/"
        },
        "id": "FcsoHxsT_Gr9",
        "outputId": "601d84cb-cbcf-4a3d-e9b8-3ca2db9de203"
      },
      "execution_count": 3,
      "outputs": [
        {
          "output_type": "stream",
          "name": "stdout",
          "text": [
            "[[1, 2, 3], [1, 2, 3], [1, 2, 3], [1, 2, 3], [1, 2, 3], [1, 2, 3], [1, 2, 3], [1, 2, 3], [1, 2, 3], [1, 2, 3]]\n"
          ]
        }
      ]
    },
    {
      "cell_type": "code",
      "source": [
        "list3=[[j for j in range (5)] for i in range (5)]\n",
        "print(list3)"
      ],
      "metadata": {
        "colab": {
          "base_uri": "https://localhost:8080/"
        },
        "id": "Lrsdxbls_X-J",
        "outputId": "85361d39-2ca4-4101-a2ca-8105ef801a54"
      },
      "execution_count": 6,
      "outputs": [
        {
          "output_type": "stream",
          "name": "stdout",
          "text": [
            "[[0, 1, 2, 3, 4], [0, 1, 2, 3, 4], [0, 1, 2, 3, 4], [0, 1, 2, 3, 4], [0, 1, 2, 3, 4]]\n"
          ]
        }
      ]
    },
    {
      "cell_type": "code",
      "source": [
        "list4=[[j+1 for j in range(5)] for i in range(5)]\n",
        "print(list4)"
      ],
      "metadata": {
        "colab": {
          "base_uri": "https://localhost:8080/"
        },
        "id": "KJW6CfXq_vmk",
        "outputId": "fcfcd3f6-9a16-4940-f350-01932a4998ca"
      },
      "execution_count": 9,
      "outputs": [
        {
          "output_type": "stream",
          "name": "stdout",
          "text": [
            "[[1, 2, 3, 4, 5], [1, 2, 3, 4, 5], [1, 2, 3, 4, 5], [1, 2, 3, 4, 5], [1, 2, 3, 4, 5]]\n"
          ]
        }
      ]
    },
    {
      "cell_type": "code",
      "source": [
        "list5=[[3*i+j for j in range (3)] for i  in range (3)]\n",
        "print(list5)"
      ],
      "metadata": {
        "colab": {
          "base_uri": "https://localhost:8080/"
        },
        "id": "f_sb0kXMAECO",
        "outputId": "e4ce7262-43cd-4b42-f298-dee25d4af0e2"
      },
      "execution_count": 14,
      "outputs": [
        {
          "output_type": "stream",
          "name": "stdout",
          "text": [
            "[[0, 1, 2], [3, 4, 5], [6, 7, 8]]\n"
          ]
        }
      ]
    },
    {
      "cell_type": "code",
      "source": [
        "R=int(input(\"Enter the no. of rows:\"))\n",
        "C=int(input(\"Enter the no. of column:\"))\n",
        "\n",
        "list6=[int(x) for x in input().split()]\n",
        "print(\"list in 1D\",list6)\n",
        "\n",
        "a=[]\n",
        "\n",
        "for i in range (R):\n",
        "   a.append([])\n",
        "   for j in range(C):\n",
        "    a[i].append(list6[C*i+j])\n",
        "\n",
        "print(\"list in 2D\", a)\n"
      ],
      "metadata": {
        "colab": {
          "base_uri": "https://localhost:8080/"
        },
        "id": "zs4RRLj_GZAO",
        "outputId": "3e7c2e38-19f5-45a8-e914-16c199157017"
      },
      "execution_count": 21,
      "outputs": [
        {
          "output_type": "stream",
          "name": "stdout",
          "text": [
            "Enter the no. of rows:2\n",
            "Enter the no. of column:2\n",
            "1 2 3 4\n",
            "list in 1D [1, 2, 3, 4]\n",
            "list in 2D [[1, 2], [3, 4]]\n"
          ]
        }
      ]
    },
    {
      "cell_type": "code",
      "source": [
        "#zigzag_column_order\n",
        "list1=[[1,2,3],[4,5,6],[7,8,9],[10,11,12]]\n",
        "print(\"array\",list)\n",
        "rows=len(list1)\n",
        "cols=len(list1[0])\n",
        "print(rows,cols)\n",
        "\n",
        "for j in range (cols):\n",
        "  if j%2==0:\n",
        "    for i in range(rows):\n",
        "      print(list1[i][j])\n",
        "  else:\n",
        "    i=rows-1\n",
        "    while(i>=0):\n",
        "      print(list1[i][j])\n",
        "      i=i-1"
      ],
      "metadata": {
        "colab": {
          "base_uri": "https://localhost:8080/"
        },
        "id": "6ya3wwOuG3bV",
        "outputId": "d08a0748-ffe5-4165-c0c9-b229710e1e1a"
      },
      "execution_count": 4,
      "outputs": [
        {
          "output_type": "stream",
          "name": "stdout",
          "text": [
            "array <class 'list'>\n",
            "4 3\n",
            "1\n",
            "4\n",
            "7\n",
            "10\n",
            "11\n",
            "8\n",
            "5\n",
            "2\n",
            "3\n",
            "6\n",
            "9\n",
            "12\n"
          ]
        }
      ]
    }
  ]
}