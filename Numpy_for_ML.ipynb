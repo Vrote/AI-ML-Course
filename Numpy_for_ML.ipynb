{
  "nbformat": 4,
  "nbformat_minor": 0,
  "metadata": {
    "colab": {
      "provenance": [],
      "authorship_tag": "ABX9TyO9oZ7KIQX9CvGdm+KGQolz"
    },
    "kernelspec": {
      "name": "python3",
      "display_name": "Python 3"
    },
    "language_info": {
      "name": "python"
    }
  },
  "cells": [
    {
      "cell_type": "code",
      "execution_count": 2,
      "metadata": {
        "colab": {
          "base_uri": "https://localhost:8080/"
        },
        "id": "h5KJHPt8HKyC",
        "outputId": "7cf4e494-268d-4b24-c477-05cc22d53d0d"
      },
      "outputs": [
        {
          "output_type": "stream",
          "name": "stdout",
          "text": [
            "[30, 40, 50]\n"
          ]
        },
        {
          "output_type": "execute_result",
          "data": {
            "text/plain": [
              "array([30, 40, 50])"
            ]
          },
          "metadata": {},
          "execution_count": 2
        }
      ],
      "source": [
        "import numpy as np\n",
        "a1=[30,40,50]\n",
        "print(a1)\n",
        "\n",
        "np.array(a1)\n"
      ]
    },
    {
      "cell_type": "code",
      "source": [
        "a2=[10,20,\"30\"]\n",
        "np.array(a2)\n"
      ],
      "metadata": {
        "colab": {
          "base_uri": "https://localhost:8080/"
        },
        "id": "37VV8RzlHqrd",
        "outputId": "21825173-432e-4f56-8300-765617697e6b"
      },
      "execution_count": null,
      "outputs": [
        {
          "output_type": "execute_result",
          "data": {
            "text/plain": [
              "array(['10', '20', '30'], dtype='<U21')"
            ]
          },
          "metadata": {},
          "execution_count": 4
        }
      ]
    },
    {
      "cell_type": "code",
      "source": [
        "np.ones(5,int)"
      ],
      "metadata": {
        "colab": {
          "base_uri": "https://localhost:8080/"
        },
        "id": "g3H-T9ubHqm3",
        "outputId": "ee2d9b2c-4a99-4db0-deb1-804fcad1eff3"
      },
      "execution_count": null,
      "outputs": [
        {
          "output_type": "execute_result",
          "data": {
            "text/plain": [
              "array([1, 1, 1, 1, 1])"
            ]
          },
          "metadata": {},
          "execution_count": 6
        }
      ]
    },
    {
      "cell_type": "code",
      "source": [
        "np.zeros(5)"
      ],
      "metadata": {
        "colab": {
          "base_uri": "https://localhost:8080/"
        },
        "id": "Vu9_Ju6IIQYY",
        "outputId": "cb56af25-e367-4081-c267-d800c5dca7de"
      },
      "execution_count": null,
      "outputs": [
        {
          "output_type": "execute_result",
          "data": {
            "text/plain": [
              "array([0., 0., 0., 0., 0.])"
            ]
          },
          "metadata": {},
          "execution_count": 7
        }
      ]
    },
    {
      "cell_type": "code",
      "source": [
        "y=np.zeros(10,int)\n",
        "print(y)\n",
        "y.dtype"
      ],
      "metadata": {
        "colab": {
          "base_uri": "https://localhost:8080/"
        },
        "id": "5KCw2scKIcvT",
        "outputId": "a00fce0f-2e05-4f08-9ed7-516d6073c397"
      },
      "execution_count": null,
      "outputs": [
        {
          "output_type": "stream",
          "name": "stdout",
          "text": [
            "[0 0 0 0 0 0 0 0 0 0]\n"
          ]
        },
        {
          "output_type": "execute_result",
          "data": {
            "text/plain": [
              "dtype('int64')"
            ]
          },
          "metadata": {},
          "execution_count": 8
        }
      ]
    },
    {
      "cell_type": "code",
      "source": [
        "np.zeros((3,4)) #2D"
      ],
      "metadata": {
        "id": "mcBxAuRiJLR7",
        "colab": {
          "base_uri": "https://localhost:8080/"
        },
        "outputId": "93612e26-c196-40d4-b67f-b98ca4166c16"
      },
      "execution_count": null,
      "outputs": [
        {
          "output_type": "execute_result",
          "data": {
            "text/plain": [
              "array([[0., 0., 0., 0.],\n",
              "       [0., 0., 0., 0.],\n",
              "       [0., 0., 0., 0.]])"
            ]
          },
          "metadata": {},
          "execution_count": 3
        }
      ]
    },
    {
      "cell_type": "code",
      "source": [
        "a3=np.ones(5)\n",
        "a3[3]=\"3\"\n",
        "print(a3)"
      ],
      "metadata": {
        "colab": {
          "base_uri": "https://localhost:8080/"
        },
        "id": "W5XYxNJyUFs3",
        "outputId": "687f184b-1c37-4d19-d0ed-ffdc49998e08"
      },
      "execution_count": null,
      "outputs": [
        {
          "output_type": "stream",
          "name": "stdout",
          "text": [
            "[1. 1. 1. 3. 1.]\n"
          ]
        }
      ]
    },
    {
      "cell_type": "code",
      "source": [
        "a4=np.zeros((3,4,5))\n",
        "print(a4)"
      ],
      "metadata": {
        "colab": {
          "base_uri": "https://localhost:8080/"
        },
        "id": "WkphDnU-UaO0",
        "outputId": "529ae818-19ca-4e50-e40c-503c52016943"
      },
      "execution_count": null,
      "outputs": [
        {
          "output_type": "stream",
          "name": "stdout",
          "text": [
            "[[[0. 0. 0. 0. 0.]\n",
            "  [0. 0. 0. 0. 0.]\n",
            "  [0. 0. 0. 0. 0.]\n",
            "  [0. 0. 0. 0. 0.]]\n",
            "\n",
            " [[0. 0. 0. 0. 0.]\n",
            "  [0. 0. 0. 0. 0.]\n",
            "  [0. 0. 0. 0. 0.]\n",
            "  [0. 0. 0. 0. 0.]]\n",
            "\n",
            " [[0. 0. 0. 0. 0.]\n",
            "  [0. 0. 0. 0. 0.]\n",
            "  [0. 0. 0. 0. 0.]\n",
            "  [0. 0. 0. 0. 0.]]]\n"
          ]
        }
      ]
    },
    {
      "cell_type": "code",
      "source": [
        "a4=np.zeros((3,4,5))\n",
        "#a4[0][1][2]\n",
        "#a4[0][1]\n",
        "#a4[0]\n",
        "\n",
        "a4.shape\n",
        "a4[2:5]\n"
      ],
      "metadata": {
        "colab": {
          "base_uri": "https://localhost:8080/"
        },
        "id": "FosonQVtVOTe",
        "outputId": "60025ab3-c63a-42f7-b8c8-e2feb2002cb8"
      },
      "execution_count": null,
      "outputs": [
        {
          "output_type": "execute_result",
          "data": {
            "text/plain": [
              "array([[[0., 0., 0., 0., 0.],\n",
              "        [0., 0., 0., 0., 0.],\n",
              "        [0., 0., 0., 0., 0.],\n",
              "        [0., 0., 0., 0., 0.]]])"
            ]
          },
          "metadata": {},
          "execution_count": 17
        }
      ]
    },
    {
      "cell_type": "code",
      "source": [
        "a5=np.array([[1,2,3],[4,5,6],[7,8,9]])\n",
        "print(a5)\n",
        "print(a5[:,1])\n"
      ],
      "metadata": {
        "colab": {
          "base_uri": "https://localhost:8080/"
        },
        "id": "6TbH75c8WcGH",
        "outputId": "46cfcfc2-6dfb-4a47-f9fb-d52f150aa88c"
      },
      "execution_count": null,
      "outputs": [
        {
          "output_type": "stream",
          "name": "stdout",
          "text": [
            "[[1 2 3]\n",
            " [4 5 6]\n",
            " [7 8 9]]\n",
            "[2 5 8]\n"
          ]
        }
      ]
    },
    {
      "cell_type": "code",
      "source": [
        "a5=np.array([[1,2,3],[4,5,6],[7,8,9],[10,11,12]])\n",
        "#a5[1:3,0]\n",
        "a5[1:3,0:2]"
      ],
      "metadata": {
        "colab": {
          "base_uri": "https://localhost:8080/"
        },
        "id": "udeppnv6ZAeF",
        "outputId": "d8709d2a-ffca-4a55-e4ca-c0999bf87dc5"
      },
      "execution_count": null,
      "outputs": [
        {
          "output_type": "execute_result",
          "data": {
            "text/plain": [
              "array([[4, 5],\n",
              "       [7, 8]])"
            ]
          },
          "metadata": {},
          "execution_count": 26
        }
      ]
    },
    {
      "cell_type": "code",
      "source": [
        "import math as m"
      ],
      "metadata": {
        "id": "4Lx07CQydb-r"
      },
      "execution_count": 1,
      "outputs": []
    },
    {
      "cell_type": "code",
      "source": [
        "x=np.array([1,2,3])\n",
        "y=np.array([3,5,6])\n",
        "x=x+10\n",
        "print(x)\n",
        "print(x+y)"
      ],
      "metadata": {
        "colab": {
          "base_uri": "https://localhost:8080/"
        },
        "id": "rfPFGbkGdpJf",
        "outputId": "036dff64-4909-455c-d6d0-b5c8f45c6630"
      },
      "execution_count": 4,
      "outputs": [
        {
          "output_type": "stream",
          "name": "stdout",
          "text": [
            "[11 12 13]\n",
            "[14 17 19]\n"
          ]
        }
      ]
    },
    {
      "cell_type": "code",
      "source": [
        "print(x*2)\n",
        "print(x*y)\n",
        "print(x**3)\n",
        "print(x.mean())\n",
        "print(x.sum())"
      ],
      "metadata": {
        "colab": {
          "base_uri": "https://localhost:8080/"
        },
        "id": "QHQeUtq7d558",
        "outputId": "b5aadf24-3d94-47c4-8713-6f3751e775aa"
      },
      "execution_count": 7,
      "outputs": [
        {
          "output_type": "stream",
          "name": "stdout",
          "text": [
            "[22 24 26]\n",
            "[33 60 78]\n",
            "[1331 1728 2197]\n",
            "12.0\n",
            "36\n"
          ]
        }
      ]
    },
    {
      "cell_type": "code",
      "source": [
        "#Euclidean Distance\n",
        "p1=np.array([2,2,2])\n",
        "p2=np.array([1,1,1])\n",
        "\n",
        "distance=np.sqrt(np.sum((p1 - p2) ** 2))\n",
        "print(\"Distance:\", distance)\n",
        "\n"
      ],
      "metadata": {
        "colab": {
          "base_uri": "https://localhost:8080/"
        },
        "id": "Y4ThxJUQfSsj",
        "outputId": "6cd8052d-c568-4bdc-e549-f33648861c51"
      },
      "execution_count": 8,
      "outputs": [
        {
          "output_type": "stream",
          "name": "stdout",
          "text": [
            "Distance: 1.7320508075688772\n"
          ]
        }
      ]
    },
    {
      "cell_type": "code",
      "source": [
        "m1 = np.array([[1, 2],\n",
        "               [3, 4]])\n",
        "\n",
        "m2 = np.array([[5, 6],\n",
        "               [7, 8]])\n",
        "\n",
        "result = m1.dot(m2)\n",
        "print(result)\n"
      ],
      "metadata": {
        "colab": {
          "base_uri": "https://localhost:8080/"
        },
        "id": "Nx9DhQfBgeFU",
        "outputId": "b7447adc-2b4a-49d4-c600-85ba30055fb9"
      },
      "execution_count": 9,
      "outputs": [
        {
          "output_type": "stream",
          "name": "stdout",
          "text": [
            "[[19 22]\n",
            " [43 50]]\n"
          ]
        }
      ]
    },
    {
      "cell_type": "code",
      "source": [
        "import numpy as np\n",
        "\n",
        "# Create a 2D NumPy array\n",
        "a = np.array([[1, 2, 3], [4, 5, 6]])\n",
        "\n",
        "#size\n",
        "print(\"Size (total elements):\", a.size)\n",
        "\n",
        "# shape\n",
        "print(\"Shape (rows, cols):\", a.shape)\n",
        "\n",
        "#datatype\n",
        "print(\"Data Type of elements:\", a.dtype)\n",
        "\n",
        "# astype\n",
        "# Convert the array from int to float\n",
        "b = a.astype(float)\n",
        "print(\"Array after converting to float:\\n\", b)\n",
        "print(\"New Data Type:\", b.dtype)\n",
        "\n",
        "#tolist\n",
        "#Convert NumPy array to Python list\n",
        "py_list=a.tolist()\n",
        "print(\"Converted to Python list:\", py_list)"
      ],
      "metadata": {
        "colab": {
          "base_uri": "https://localhost:8080/"
        },
        "id": "XiinZMd4hAMU",
        "outputId": "3eabb37e-4eee-4fcc-d93f-fc978dbdc25c"
      },
      "execution_count": 11,
      "outputs": [
        {
          "output_type": "stream",
          "name": "stdout",
          "text": [
            "Size (total elements): 6\n",
            "Shape (rows, cols): (2, 3)\n",
            "Data Type of elements: int64\n",
            "Array after converting to float:\n",
            " [[1. 2. 3.]\n",
            " [4. 5. 6.]]\n",
            "New Data Type: float64\n",
            "Converted to Python list: [[1, 2, 3], [4, 5, 6]]\n"
          ]
        }
      ]
    },
    {
      "cell_type": "code",
      "source": [
        "# Original array\n",
        "a = np.array([1, 2, 3])\n",
        "\n",
        "# copy\n",
        "# Creates a deep copy (completely independent)\n",
        "b = a.copy()\n",
        "b[0] = 100\n",
        "print(\"Original array after copy:\", a)\n",
        "print(\"Copied array (b):\", b)\n",
        "\n",
        "# view\n",
        "# Creates a shallow copy (shares data with original)\n",
        "c = a.view()\n",
        "c[1] = 200\n",
        "print(\"Original array after view modification:\", a)\n",
        "print(\"Viewed array (c):\", c)\n"
      ],
      "metadata": {
        "colab": {
          "base_uri": "https://localhost:8080/"
        },
        "id": "TRn-q4kVjVI_",
        "outputId": "bc05b59a-d8cc-4e85-88f4-9424a9136814"
      },
      "execution_count": 12,
      "outputs": [
        {
          "output_type": "stream",
          "name": "stdout",
          "text": [
            "Original array after copy: [1 2 3]\n",
            "Copied array (b): [100   2   3]\n",
            "Original array after view modification: [  1 200   3]\n",
            "Viewed array (c): [  1 200   3]\n"
          ]
        }
      ]
    },
    {
      "cell_type": "code",
      "source": [
        "# Original array\n",
        "a = np.array([3, 1, 4, 1, 5])\n",
        "\n",
        "# sort\n",
        "# Using np.sort()\n",
        "sorted_array = np.sort(a)\n",
        "print(\"Sorted array (new):\", sorted_array)\n",
        "print(\"Original array remains unchanged:\", a)\n",
        "\n",
        "# Using in-place sort – modifies the original array\n",
        "a.sort()\n",
        "print(\"Original array after in-place sort:\", a)\n"
      ],
      "metadata": {
        "colab": {
          "base_uri": "https://localhost:8080/"
        },
        "id": "PzR-yOS-j1Zl",
        "outputId": "92d21e88-f909-42ee-9e75-c062f9ba7484"
      },
      "execution_count": 13,
      "outputs": [
        {
          "output_type": "stream",
          "name": "stdout",
          "text": [
            "Sorted array (new): [1 1 3 4 5]\n",
            "Original array remains unchanged: [3 1 4 1 5]\n",
            "Original array after in-place sort: [1 1 3 4 5]\n"
          ]
        }
      ]
    }
  ]
}